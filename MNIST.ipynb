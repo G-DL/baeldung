{
 "cells": [
  {
   "cell_type": "code",
   "execution_count": 1,
   "metadata": {},
   "outputs": [
    {
     "name": "stderr",
     "output_type": "stream",
     "text": [
      "Using TensorFlow backend.\n"
     ]
    },
    {
     "name": "stdout",
     "output_type": "stream",
     "text": [
      "(1797, 8, 8) (1797,)\n"
     ]
    }
   ],
   "source": [
    "from matplotlib import pyplot as plt\n",
    "from sklearn.datasets import load_digits\n",
    "from sklearn.model_selection import train_test_split\n",
    "import keras\n",
    "\n",
    "# We can load the MNIST dataset from skLearn\n",
    "mnist = load_digits()\n",
    "X = mnist.images\n",
    "y = mnist.target\n",
    "\n",
    "# We first check how many samples we have and their dimensionality\n",
    "print(X.shape, y.shape)"
   ]
  },
  {
   "cell_type": "code",
   "execution_count": 2,
   "metadata": {},
   "outputs": [
    {
     "name": "stdout",
     "output_type": "stream",
     "text": [
      "1\n"
     ]
    },
    {
     "data": {
      "image/png": "[encoded data removed]",
      "text/plain": [
       "<Figure size 432x288 with 1 Axes>"
      ]
     },
     "metadata": {
      "needs_background": "light"
     },
     "output_type": "display_data"
    },
    {
     "name": "stdout",
     "output_type": "stream",
     "text": [
      "2\n"
     ]
    },
    {
     "data": {
      "image/png": "[encoded data removed]",
      "text/plain": [
       "<Figure size 432x288 with 1 Axes>"
      ]
     },
     "metadata": {
      "needs_background": "light"
     },
     "output_type": "display_data"
    },
    {
     "name": "stdout",
     "output_type": "stream",
     "text": [
      "8\n"
     ]
    },
    {
     "data": {
      "image/png": "[encoded data removed]",
      "text/plain": [
       "<Figure size 432x288 with 1 Axes>"
      ]
     },
     "metadata": {
      "needs_background": "light"
     },
     "output_type": "display_data"
    },
    {
     "name": "stdout",
     "output_type": "stream",
     "text": [
      "2\n"
     ]
    },
    {
     "data": {
      "image/png": "[encoded data removed]",
      "text/plain": [
       "<Figure size 432x288 with 1 Axes>"
      ]
     },
     "metadata": {
      "needs_background": "light"
     },
     "output_type": "display_data"
    }
   ],
   "source": [
    "# We can check some of the images to verify their consistency with the labels\n",
    "for i in [1,12,123,1234]:\n",
    "    print(y[i])\n",
    "    plt.imshow(X[i],cmap='binary')\n",
    "    plt.show()"
   ]
  },
  {
   "cell_type": "code",
   "execution_count": 3,
   "metadata": {},
   "outputs": [
    {
     "name": "stdout",
     "output_type": "stream",
     "text": [
      "(1797, 8, 8, 1)\n"
     ]
    }
   ],
   "source": [
    "# Convolution2D in Keras requires us to reshape the input vector\n",
    "# We have to specify that one colour channel is used\n",
    "X = X.reshape((1797, 8, 8, 1))\n",
    "print(X.shape)\n",
    "\n",
    "# We also convert the target labels to categorical matrices\n",
    "y = keras.utils.to_categorical(y,10)\n",
    "\n",
    "# We can then split the dataset into a training and a test set\n",
    "X_train, X_test, y_train, y_test = train_test_split(X, y, test_size=0.2)"
   ]
  },
  {
   "cell_type": "code",
   "execution_count": 4,
   "metadata": {},
   "outputs": [
    {
     "name": "stdout",
     "output_type": "stream",
     "text": [
      "WARNING:tensorflow:From c:\\python\\lib\\site-packages\\tensorflow\\python\\ops\\resource_variable_ops.py:435: colocate_with (from tensorflow.python.framework.ops) is deprecated and will be removed in a future version.\n",
      "Instructions for updating:\n",
      "Colocations handled automatically by placer.\n",
      "WARNING:tensorflow:From c:\\python\\lib\\site-packages\\tensorflow\\python\\ops\\math_ops.py:3066: to_int32 (from tensorflow.python.ops.math_ops) is deprecated and will be removed in a future version.\n",
      "Instructions for updating:\n",
      "Use tf.cast instead.\n",
      "Train on 1293 samples, validate on 144 samples\n",
      "Epoch 1/10\n",
      "1293/1293 [==============================] - 1s 726us/step - loss: 3.7385 - accuracy: 0.1106 - val_loss: 1.9490 - val_accuracy: 0.2986\n",
      "Epoch 2/10\n",
      "1293/1293 [==============================] - 0s 182us/step - loss: 2.1034 - accuracy: 0.3225 - val_loss: 1.2284 - val_accuracy: 0.7083\n",
      "Epoch 3/10\n",
      "1293/1293 [==============================] - 0s 200us/step - loss: 1.2838 - accuracy: 0.5615 - val_loss: 0.6302 - val_accuracy: 0.9167\n",
      "Epoch 4/10\n",
      "1293/1293 [==============================] - 0s 165us/step - loss: 0.8262 - accuracy: 0.7486 - val_loss: 0.4311 - val_accuracy: 0.9375\n",
      "Epoch 5/10\n",
      "1293/1293 [==============================] - 0s 196us/step - loss: 0.5998 - accuracy: 0.8268 - val_loss: 0.3340 - val_accuracy: 0.9444\n",
      "Epoch 6/10\n",
      "1293/1293 [==============================] - 0s 196us/step - loss: 0.4569 - accuracy: 0.8677 - val_loss: 0.2416 - val_accuracy: 0.9444\n",
      "Epoch 7/10\n",
      "1293/1293 [==============================] - 0s 182us/step - loss: 0.3753 - accuracy: 0.8917 - val_loss: 0.2005 - val_accuracy: 0.9514\n",
      "Epoch 8/10\n",
      "1293/1293 [==============================] - 0s 160us/step - loss: 0.2994 - accuracy: 0.9196 - val_loss: 0.1685 - val_accuracy: 0.9653\n",
      "Epoch 9/10\n",
      "1293/1293 [==============================] - 0s 180us/step - loss: 0.2687 - accuracy: 0.9242 - val_loss: 0.1518 - val_accuracy: 0.9653\n",
      "Epoch 10/10\n",
      "1293/1293 [==============================] - 0s 181us/step - loss: 0.2338 - accuracy: 0.9327 - val_loss: 0.1407 - val_accuracy: 0.9653\n"
     ]
    },
    {
     "data": {
      "text/plain": [
       "<keras.callbacks.callbacks.History at 0x20f648c5ef0>"
      ]
     },
     "execution_count": 4,
     "metadata": {},
     "output_type": "execute_result"
    }
   ],
   "source": [
    "# We can now build a CNN with a ReLU activation function Dropout layer to classify the images according to their labels\n",
    "from keras.models import Sequential\n",
    "from keras.layers import Conv2D, MaxPooling2D, Dense, Dropout, Flatten\n",
    "from keras.utils import to_categorical\n",
    "\n",
    "cnn = Sequential()\n",
    "cnn.add(Conv2D(64, kernel_size=(3, 3),\n",
    "                 activation='relu', # The ReLU\n",
    "                 input_shape=(8, 8, 1)))\n",
    "cnn.add(MaxPooling2D(pool_size=(2, 2)))\n",
    "cnn.add(Dropout(0.2)) # The Dropout layer\n",
    "cnn.add(Flatten())\n",
    "cnn.add(Dense(10, activation='softmax'))\n",
    "\n",
    "cnn.compile(loss='categorical_crossentropy',\n",
    "              optimizer='Adam',\n",
    "              metrics=['accuracy'])\n",
    "\n",
    "cnn.fit(X_train, y_train, batch_size=100, epochs=10, verbose=1, validation_split=0.1)"
   ]
  },
  {
   "cell_type": "code",
   "execution_count": 5,
   "metadata": {
    "scrolled": true
   },
   "outputs": [
    {
     "name": "stdout",
     "output_type": "stream",
     "text": [
      "360/360 [==============================] - 0s 139us/step\n",
      "Log-loss: 0.13978965514236028\n",
      "Accuracy: 0.9694444537162781\n"
     ]
    }
   ],
   "source": [
    "# We can now evaluate the CNN we built, by using the test data we had previously set aside\n",
    "result = cnn.evaluate(X_test, y_test)\n",
    "print(f'Log-loss: {result[0]}\\nAccuracy: {result[1]}')"
   ]
  }
 ],
 "metadata": {
  "kernelspec": {
   "display_name": "Python 3",
   "language": "python",
   "name": "python3"
  },
  "language_info": {
   "codemirror_mode": {
    "name": "ipython",
    "version": 3
   },
   "file_extension": ".py",
   "mimetype": "text/x-python",
   "name": "python",
   "nbconvert_exporter": "python",
   "pygments_lexer": "ipython3",
   "version": "3.7.2"
  }
 },
 "nbformat": 4,
 "nbformat_minor": 2
}
